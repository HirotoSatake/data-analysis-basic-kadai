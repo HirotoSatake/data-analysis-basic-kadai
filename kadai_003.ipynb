{
  "nbformat": 4,
  "nbformat_minor": 0,
  "metadata": {
    "colab": {
      "provenance": []
    },
    "kernelspec": {
      "name": "python3",
      "display_name": "Python 3"
    },
    "language_info": {
      "name": "python"
    }
  },
  "cells": [
    {
      "cell_type": "code",
      "execution_count": 22,
      "metadata": {
        "colab": {
          "base_uri": "https://localhost:8080/"
        },
        "id": "lK3js45jXRdl",
        "outputId": "543932c3-52c2-4873-db0f-e444197c8618"
      },
      "outputs": [
        {
          "output_type": "stream",
          "name": "stdout",
          "text": [
            "[[ 4  5  6  7]\n",
            " [12 17 22 27]\n",
            " [20 29 38 47]]\n"
          ]
        },
        {
          "output_type": "execute_result",
          "data": {
            "text/plain": [
              "47"
            ]
          },
          "metadata": {},
          "execution_count": 22
        }
      ],
      "source": [
        "import numpy as np\n",
        "\n",
        "A = np.array([[0,1],[2,3],[4,5]])\n",
        "B = np.array([[0,1,2,3],[4,5,6,7]])\n",
        "\n",
        "C = np.dot(A,B)\n",
        "\n",
        "print(C)\n",
        "\n",
        "C.max()"
      ]
    },
    {
      "cell_type": "code",
      "source": [],
      "metadata": {
        "id": "XDcWw2cBadIs"
      },
      "execution_count": null,
      "outputs": []
    }
  ]
}