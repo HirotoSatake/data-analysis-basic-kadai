{
  "nbformat": 4,
  "nbformat_minor": 0,
  "metadata": {
    "colab": {
      "provenance": []
    },
    "kernelspec": {
      "name": "python3",
      "display_name": "Python 3"
    },
    "language_info": {
      "name": "python"
    }
  },
  "cells": [
    {
      "cell_type": "code",
      "source": [
        "from sklearn.datasets import load_wine\n",
        "from sklearn.model_selection import train_test_split\n",
        "\n",
        "import pandas as pd\n",
        "\n",
        "from sklearn.tree import DecisionTreeClassifier\n",
        "from sklearn.ensemble import RandomForestClassifier\n",
        "from sklearn.metrics import accuracy_score\n",
        "\n",
        "\n",
        "\n",
        "#データをダウンロード\n",
        "dataset = load_wine()\n",
        "dataset\n",
        "\n",
        "dataset.data\n",
        "\n",
        "dataset.feature_names\n",
        "\n",
        "#パンダスでデータフレームを生成\n",
        "df = pd.DataFrame(data=dataset.data, columns=dataset.feature_names)\n",
        "df.head()\n",
        "\n",
        "dataset.target\n",
        "\n",
        "df['category'] = dataset.target\n",
        "df.head()\n",
        "\n",
        "df.shape\n",
        "\n",
        "X = dataset.data\n",
        "y = dataset.target\n",
        "\n",
        "train_test_split(X, y, test_size=0.3, random_state=5)\n",
        "\n",
        "X_train, X_test, y_train, y_test = train_test_split(X, y, test_size=0.3, random_state=5)\n",
        "\n",
        "print(X.shape, X_train.shape, X_test.shape, y.shape, y_train.shape, y_test.shape)\n",
        "\n",
        "model = RandomForestClassifier(random_state=3)\n",
        "\n",
        "model.fit(X_train, y_train)\n",
        "\n",
        "y_pred = model.predict(X_test)\n",
        "y_pred\n",
        "\n",
        "accuracy = accuracy_score(y_test, y_pred)\n",
        "\n",
        "model.score(X_test, y_test)\n",
        "\n",
        "# モデルを作成して学習させる\n",
        "decision_tree_model = DecisionTreeClassifier(random_state=3)\n",
        "random_forest_model = RandomForestClassifier(random_state=3)\n",
        "\n",
        "# 決定木モデルを訓練データで学習させる\n",
        "decision_tree_model.fit(X_train, y_train)\n",
        "# ランダムフォレストモデルを訓練データで学習させる\n",
        "random_forest_model.fit(X_train, y_train)\n",
        "\n",
        "# 決定木モデルでテストデータを予測する\n",
        "y_pred_tree = decision_tree_model.predict(X_test)\n",
        "# ランダムフォレストモデルでテストデータを予測する\n",
        "y_pred_forest = random_forest_model.predict(X_test)\n",
        "\n",
        "\n",
        "# 正解率を計算する\n",
        "accuracy_tree = accuracy_score(y_test, y_pred_tree)\n",
        "accuracy_forest = accuracy_score(y_test, y_pred_forest)\n",
        "\n",
        "# 正解率結果を出力する\n",
        "print(f\"決定木の正解率: {accuracy_tree}\")\n",
        "print(f\"ランダムフォレストの正解率: {accuracy_forest}\")"
      ],
      "metadata": {
        "colab": {
          "base_uri": "https://localhost:8080/"
        },
        "id": "VzO5IKToSpWX",
        "outputId": "ba703279-0ea0-419a-f353-6eec0b7b9cc1"
      },
      "execution_count": null,
      "outputs": [
        {
          "output_type": "stream",
          "name": "stdout",
          "text": [
            "(178, 13) (124, 13) (54, 13) (178,) (124,) (54,)\n",
            "決定木の正解率: 0.9259259259259259\n",
            "ランダムフォレストの正解率: 0.9629629629629629\n"
          ]
        }
      ]
    },
    {
      "cell_type": "code",
      "source": [],
      "metadata": {
        "id": "0Z42uehNy0jU"
      },
      "execution_count": null,
      "outputs": []
    }
  ]
}